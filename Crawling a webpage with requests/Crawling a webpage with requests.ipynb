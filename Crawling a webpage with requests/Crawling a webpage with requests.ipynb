{
 "cells": [
  {
   "cell_type": "code",
   "execution_count": 43,
   "source": [
    "import requests\r\n",
    "import re\r\n",
    "\r\n",
    "\r\n",
    "r = requests.get('https://google.com/')\r\n",
    "\r\n",
    "\r\n",
    "links = re.findall('href=\"(http[s]?://.*?)\"', r.text)\r\n",
    "print(len(links))\r\n",
    "\r\n",
    "for link in links:\r\n",
    "    print(link)\r\n",
    "\r\n",
    "\r\n",
    "\r\n",
    "\r\n",
    "\r\n",
    "\r\n",
    "\r\n",
    "\r\n"
   ],
   "outputs": [
    {
     "output_type": "stream",
     "name": "stdout",
     "text": [
      "11\n",
      "https://www.google.com/imghp?hl=en&tab=wi\n",
      "https://maps.google.com/maps?hl=en&tab=wl\n",
      "https://play.google.com/?hl=en&tab=w8\n",
      "https://www.youtube.com/?gl=US&tab=w1\n",
      "https://news.google.com/?tab=wn\n",
      "https://mail.google.com/mail/?tab=wm\n",
      "https://drive.google.com/?tab=wo\n",
      "https://www.google.com/intl/en/about/products?tab=wh\n",
      "http://www.google.com/history/optout?hl=en\n",
      "https://accounts.google.com/ServiceLogin?hl=en&passive=true&continue=https://www.google.com/&ec=GAZAAQ\n",
      "https://www.google.com/url?q=https://about.google/hispanic-heritage-month-2021/%3Futm_source%3Dgoogle%26utm_medium%3Dhpp%26utm_campaign%3DEN-US&amp;source=hpp&amp;id=19025820&amp;ct=3&amp;usg=AFQjCNHRzC9F_F01uzyLRg9FY3Zlf2_BeQ&amp;sa=X&amp;ved=0ahUKEwjS_YXn3YHzAhXYAt4KHbKfCKAQ8IcBCAU\n"
     ]
    }
   ],
   "metadata": {}
  }
 ],
 "metadata": {
  "language_info": {
   "name": "python",
   "version": "3.8.5",
   "mimetype": "text/x-python",
   "codemirror_mode": {
    "name": "ipython",
    "version": 3
   },
   "pygments_lexer": "ipython3",
   "nbconvert_exporter": "python",
   "file_extension": ".py"
  },
  "kernelspec": {
   "name": "python3",
   "display_name": "Python 3.8.5 64-bit ('base': conda)"
  },
  "interpreter": {
   "hash": "cad32598018ca807307145cebb1f0170f54c4e54617af8170187c4cb92846bc7"
  }
 },
 "nbformat": 4,
 "nbformat_minor": 4
}