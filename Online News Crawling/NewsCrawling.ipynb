{
 "cells": [
  {
   "cell_type": "code",
   "execution_count": 1,
   "metadata": {},
   "outputs": [],
   "source": [
    "import newspaper\n",
    "from newspaper import Article\n",
    "import nltk\n",
    "import json\n",
    "\n",
    "url = 'http://fox13now.com/2013/12/30/new-year-new-laws-obamacare-pot-guns-and-drones/'\n",
    "article = Article(url)"
   ]
  },
  {
   "cell_type": "code",
   "execution_count": 2,
   "metadata": {},
   "outputs": [
    {
     "data": {
      "text/plain": [
       "'By Leigh Ann Caldwell\\n\\nWASHINGTON (CNN) — Not everyone subscribes to a New Year’s resolution, but Americans will be required to follow new laws in 2014.\\n\\nSome 40,000 measures taking effect range from sweeping, national mandates under Obamacare to marijuana legalization in Colorado, drone prohibition in Illinois and transgender protections in California.\\n\\nAlthough many new laws are controversial, they made it through legislatures, public referendum or city councils and represent the shifting composition of American beliefs.\\n\\nFederal: Health care, of course, and vending machines\\n\\nThe biggest and most politically charged change comes at the federal level with the imposition of a new fee for those adults without health insurance.\\n\\nFor 2014, the penalty is either $95 per adult or 1% of family income, whichever results in a larger fine.\\n\\nThe Obamacare, of Affordable Care Act, mandate also requires that insurers cover immunizations and some preventive care.\\n\\nAdditionally, millions of poor Americans will receive Medicaid benefits starting January 1.\\n\\nThousands of companies will have to provide calorie counts for products sold in vending machines.\\n\\nLocal: Guns, family leave and shark fins\\n\\nConnecticut: While no national legislation was approved to tighten gun laws a year after the Newtown school shooting, Connecticut is implementing a final round of changes to its books: All assault weapons and large capacity magazines must be registered.\\n\\nOregon: Family leave in Oregon has been expanded to allow eligible employees two weeks of paid leave to handle the death of a family member.\\n\\nCalifornia: Homeless youth are eligible to receive food stamps. The previous law had a minimum wage requirement.\\n\\nDelaware: Delaware is the latest in a growing number of states where residents can no longer possess, sell or distribute shark fins, which is considered a delicacy in some East Asian cuisine.\\n\\nIllinois and drones\\n\\nIllinois: passed two laws limiting the use of drones. One prohibits them from interfering with hunters and fisherman. The measure passed after the group People for the Ethical Treatment of Animals said it would use drones to monitor hunters. PETA said it aims through its “air angels” effort to protect against “cruel” and “illegal” hunting.\\n\\nAlso in Illinois, another law prohibits the use of drones for law enforcement without a warrant.\\n\\nGender and voting identity\\n\\nCalifornia: Students can use bathrooms and join school athletic teams “consistent with their gender identity,” even if it’s different than their gender at birth.\\n\\nArkansas: The state becomes the latest state requiring voters show a picture ID at the voting booth.\\n\\nMinimum wage and former felon employment\\n\\nWorkers in 13 states and four cities will see increases to the minimum wage.\\n\\nWhile most amount to less than 15 cents per hour, workers in places like New Jersey, and Connecticut.\\n\\nNew Jersey residents voted to raise the state’s minimum wage by $1 to $8.25 per hour. And in Connecticut, lawmakers voted to raise it between 25 and 75 cents to $8.70. The wage would go up to $8 in Rhode Island and New York.\\n\\nCalifornia is also raising its minimum wage to $9 per hour, but workers must wait until July to see the addition.\\n\\nRhode Island: It is the latest state to prohibit employers from requiring job applicants to signify if they have a criminal record on a job application.\\n\\nSocial media and pot\\n\\nOregon: Employers and schools can’t require a job or student applicant to provide passwords to social media accounts.\\n\\nColorado: Marijuana becomes legal in the state for buyers over 21 at a licensed retail dispensary.\\n\\n(Sourcing: much of this list was obtained from the National Conference of State Legislatures).'"
      ]
     },
     "execution_count": 2,
     "metadata": {},
     "output_type": "execute_result"
    }
   ],
   "source": [
    "article.download()\n",
    "article.parse()\n",
    "article.text"
   ]
  },
  {
   "cell_type": "code",
   "execution_count": 3,
   "metadata": {},
   "outputs": [
    {
     "data": {
      "text/plain": [
       "datetime.datetime(2013, 12, 30, 0, 0)"
      ]
     },
     "execution_count": 3,
     "metadata": {},
     "output_type": "execute_result"
    }
   ],
   "source": [
    "article.publish_date"
   ]
  },
  {
   "cell_type": "code",
   "execution_count": 4,
   "metadata": {},
   "outputs": [
    {
     "data": {
      "text/plain": [
       "'New Year, new laws: Obamacare, pot, guns and drones'"
      ]
     },
     "execution_count": 4,
     "metadata": {},
     "output_type": "execute_result"
    }
   ],
   "source": [
    "article.title"
   ]
  },
  {
   "cell_type": "code",
   "execution_count": 5,
   "metadata": {},
   "outputs": [
    {
     "data": {
      "text/plain": [
       "'http://fox13now.com/apple-touch-icon.png'"
      ]
     },
     "execution_count": 5,
     "metadata": {},
     "output_type": "execute_result"
    }
   ],
   "source": [
    "article.top_image"
   ]
  },
  {
   "cell_type": "code",
   "execution_count": 6,
   "metadata": {},
   "outputs": [
    {
     "name": "stderr",
     "output_type": "stream",
     "text": [
      "[nltk_data] Downloading package punkt to\n",
      "[nltk_data]     C:\\Users\\Feras\\AppData\\Roaming\\nltk_data...\n",
      "[nltk_data]   Package punkt is already up-to-date!\n"
     ]
    },
    {
     "data": {
      "text/plain": [
       "['guns',\n",
       " 'latest',\n",
       " 'national',\n",
       " 'law',\n",
       " 'family',\n",
       " 'leave',\n",
       " 'wage',\n",
       " 'minimum',\n",
       " 'states',\n",
       " 'pot',\n",
       " 'laws',\n",
       " 'state',\n",
       " 'drones',\n",
       " 'obamacare']"
      ]
     },
     "execution_count": 6,
     "metadata": {},
     "output_type": "execute_result"
    }
   ],
   "source": [
    "nltk.download('punkt')\n",
    "article.nlp()\n",
    "article.keywords"
   ]
  },
  {
   "cell_type": "code",
   "execution_count": 7,
   "metadata": {},
   "outputs": [
    {
     "data": {
      "text/plain": [
       "'Oregon: Family leave in Oregon has been expanded to allow eligible employees two weeks of paid leave to handle the death of a family member.\\nArkansas: The state becomes the latest state requiring voters show a picture ID at the voting booth.\\nMinimum wage and former felon employmentWorkers in 13 states and four cities will see increases to the minimum wage.\\nNew Jersey residents voted to raise the state’s minimum wage by $1 to $8.25 per hour.\\nCalifornia is also raising its minimum wage to $9 per hour, but workers must wait until July to see the addition.'"
      ]
     },
     "execution_count": 7,
     "metadata": {},
     "output_type": "execute_result"
    }
   ],
   "source": [
    "article.summary"
   ]
  },
  {
   "cell_type": "code",
   "execution_count": 8,
   "metadata": {},
   "outputs": [
    {
     "name": "stdout",
     "output_type": "stream",
     "text": [
      "14\n",
      "https://www.rt.com/news/539015-afghan-soldiers-join-isis/ \n",
      "https://www.rt.com/news/539007-swiss-climate-fuel-heating-survey/ \n",
      "https://www.rt.com/news/539018-cop26-private-jet-hypocrisy/ \n",
      "https://www.rt.com/news/539010-tokyo-subway-attack-joker/ \n",
      "https://www.rt.com/news/538997-assange-torture-uk-melzer/ \n",
      "https://www.rt.com/news/538999-czech-cable-car-crash/ \n",
      "https://www.rt.com/news/538998-g20-summit-climate-communique/ \n",
      "https://www.rt.com/news/538983-china-covid-conspiracy-book/ \n",
      "https://www.rt.com/news/538992-macron-johnson-g20-talks/ \n",
      "https://www.rt.com/news/538991-tokyo-metro-attack-fire/ \n",
      "https://www.rt.com/news/538982-paris-milan-coronavirus-protest/ \n",
      "https://www.rt.com/shows/news/538952-rtnews-october-31-17msk/ \n",
      "https://www.rt.com/shows/news/538913-rtnews-october-31-12msk/ \n",
      "https://www.rt.com/shows/news/538870-rtnews-october-30-17msk/ \n",
      "http://russian.rt.com\n",
      "https://www.rt.com/\n",
      "http://francais.rt.com\n",
      "https://www.rt.com/business\n",
      "http://de.rt.com\n",
      "https://www.rt.com/op-ed\n",
      "https://www.rt.com/news\n",
      "https://www.rt.com/onair-talent\n",
      "https://www.rt.com\n",
      "https://www.rt.com/sport\n",
      "https://www.rt.com/projects\n",
      "https://www.rt.com/uk\n",
      "http://actualidad.rt.com\n",
      "https://www.rt.com/podcasts\n",
      "http://rtd.rt.com\n",
      "https://www.rt.com/usa\n",
      "https://www.rt.com/russia\n",
      "http://arabic.rt.com\n",
      "https://www.rt.com/shows\n",
      "https://www.rt.com/schedule\n",
      "https://www.rt.com/applications\n",
      "https://www.rt.com/on-air\n"
     ]
    }
   ],
   "source": [
    "rt_paper = newspaper.build('https://www.rt.com/')\n",
    "print(len(rt_paper.articles))\n",
    "\n",
    "for article in rt_paper.articles:\n",
    "    print(article.url)\n",
    "\n",
    "for category in rt_paper.category_urls():\n",
    "    print(category)"
   ]
  },
  {
   "cell_type": "code",
   "execution_count": 9,
   "metadata": {},
   "outputs": [
    {
     "name": "stdout",
     "output_type": "stream",
     "text": [
      "323\n"
     ]
    }
   ],
   "source": [
    "newspaper_repository = newspaper.build('https://www.aljazeera.com/', memoize_articles=False, language='en')\n",
    "print(len(newspaper_repository.articles))"
   ]
  },
  {
   "cell_type": "code",
   "execution_count": 12,
   "metadata": {},
   "outputs": [],
   "source": [
    "articlesArray = []\n",
    "def write_to_file(data):\n",
    "    with open('articles,json', 'w', encoding='utf-8') as f:\n",
    "        json.dump(data, f, ensure_ascii=False)\n",
    "        \n",
    "        def crawl_news(limit, url):\n",
    "            site = newspaper.build(url, memorize_articles=False, language='en')\n",
    "            \n",
    "            for article in site.articles:\n",
    "                article.download()\n",
    "                article.parse()\n",
    "                print(article.text)\n",
    "                articlesArray.append(article.text)\n",
    "                if len(articlesArray) == limit:\n",
    "                    break\n",
    "                    \n",
    "                    crawl_news(10,'https://news.sky.com')"
   ]
  },
  {
   "cell_type": "code",
   "execution_count": 13,
   "metadata": {},
   "outputs": [],
   "source": [
    "write_to_file(articlesArray)"
   ]
  }
 ],
 "metadata": {
  "interpreter": {
   "hash": "cad32598018ca807307145cebb1f0170f54c4e54617af8170187c4cb92846bc7"
  },
  "kernelspec": {
   "display_name": "Python 3.8.5 64-bit ('base': conda)",
   "name": "python3"
  },
  "language_info": {
   "codemirror_mode": {
    "name": "ipython",
    "version": 3
   },
   "file_extension": ".py",
   "mimetype": "text/x-python",
   "name": "python",
   "nbconvert_exporter": "python",
   "pygments_lexer": "ipython3",
   "version": "3.8.5"
  },
  "orig_nbformat": 4
 },
 "nbformat": 4,
 "nbformat_minor": 2
}
