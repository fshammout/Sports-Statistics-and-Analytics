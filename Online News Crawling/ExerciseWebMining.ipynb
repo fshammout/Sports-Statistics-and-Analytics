{
 "cells": [
  {
   "cell_type": "code",
   "execution_count": 1,
   "metadata": {},
   "outputs": [
    {
     "ename": "ImportError",
     "evalue": "cannot import name 'Article' from 'newspaper' (unknown location)",
     "output_type": "error",
     "traceback": [
      "\u001b[1;31m---------------------------------------------------------------------------\u001b[0m",
      "\u001b[1;31mImportError\u001b[0m                               Traceback (most recent call last)",
      "\u001b[1;32m<ipython-input-1-876704a45622>\u001b[0m in \u001b[0;36m<module>\u001b[1;34m\u001b[0m\n\u001b[1;32m----> 1\u001b[1;33m \u001b[1;32mfrom\u001b[0m \u001b[0mnewspaper\u001b[0m \u001b[1;32mimport\u001b[0m \u001b[0mArticle\u001b[0m\u001b[1;33m\u001b[0m\u001b[1;33m\u001b[0m\u001b[0m\n\u001b[0m\u001b[0;32m      2\u001b[0m \u001b[1;33m\u001b[0m\u001b[0m\n\u001b[0;32m      3\u001b[0m \u001b[0murl\u001b[0m \u001b[1;33m=\u001b[0m \u001b[1;34m'https://www.cnn.com/2021/10/14/uk/sprinkles-bakery-banned-scli-intl-gbr/index.html'\u001b[0m\u001b[1;33m\u001b[0m\u001b[1;33m\u001b[0m\u001b[0m\n\u001b[0;32m      4\u001b[0m \u001b[0marticle\u001b[0m \u001b[1;33m=\u001b[0m \u001b[0mArticle\u001b[0m\u001b[1;33m(\u001b[0m\u001b[0murl\u001b[0m\u001b[1;33m)\u001b[0m\u001b[1;33m\u001b[0m\u001b[1;33m\u001b[0m\u001b[0m\n",
      "\u001b[1;31mImportError\u001b[0m: cannot import name 'Article' from 'newspaper' (unknown location)"
     ]
    }
   ],
   "source": [
    "from newspaper import Article\n",
    "\n",
    "url = 'https://www.cnn.com/2021/10/14/uk/sprinkles-bakery-banned-scli-intl-gbr/index.html'\n",
    "article = Article(url)"
   ]
  },
  {
   "cell_type": "code",
   "execution_count": 2,
   "metadata": {},
   "outputs": [
    {
     "data": {
      "text/plain": [
       "'UK bakery banned from using sprinkles which are legal in the US'"
      ]
     },
     "execution_count": 2,
     "metadata": {},
     "output_type": "execute_result"
    }
   ],
   "source": [
    "article.download()\n",
    "article.parse()\n",
    "article.title"
   ]
  },
  {
   "cell_type": "code",
   "execution_count": 3,
   "metadata": {},
   "outputs": [
    {
     "data": {
      "text/plain": [
       "['Jack Guy']"
      ]
     },
     "execution_count": 3,
     "metadata": {},
     "output_type": "execute_result"
    }
   ],
   "source": [
    "article.authors"
   ]
  },
  {
   "cell_type": "code",
   "execution_count": 4,
   "metadata": {},
   "outputs": [
    {
     "data": {
      "text/plain": [
       "datetime.datetime(2021, 10, 14, 0, 0)"
      ]
     },
     "execution_count": 4,
     "metadata": {},
     "output_type": "execute_result"
    }
   ],
   "source": [
    "article.publish_date"
   ]
  },
  {
   "cell_type": "code",
   "execution_count": 5,
   "metadata": {},
   "outputs": [
    {
     "data": {
      "text/plain": [
       "\"(CNN) The owner of a bakery in northern England has been left with a bitter taste in his mouth after authorities told him he had to stop using banned sprinkles sourced from the US.\\n\\nWest Yorkshire Trading Standards said the sprinkles contained an artificial coloring which isn't approved for use in sprinkles in the UK.\\n\\nThe sprinkles had the red food coloring E127, or erythrosine. E127 is only permitted for use in cocktail cherries and candied cherries in the UK and the EU, according to a statement from West Yorkshire Trading Standards sent to CNN Thursday.\\n\\nBut the owner of the bakery isn't happy that his most popular product has lost out on its prize topping.\\n\\nRich Myers, director and founder of Get Baked bakery in Leeds, told CNN he had been using the sprinkles since opening the business in July.\\n\\nRead More\""
      ]
     },
     "execution_count": 5,
     "metadata": {},
     "output_type": "execute_result"
    }
   ],
   "source": [
    "article.text"
   ]
  },
  {
   "cell_type": "code",
   "execution_count": 6,
   "metadata": {},
   "outputs": [
    {
     "data": {
      "text/plain": [
       "'https://cdn.cnn.com/cnnnext/dam/assets/211014065303-illegal-sprinkles-bakery-scli-intl-gbr-super-tease.jpg'"
      ]
     },
     "execution_count": 6,
     "metadata": {},
     "output_type": "execute_result"
    }
   ],
   "source": [
    "article.top_image"
   ]
  },
  {
   "cell_type": "code",
   "execution_count": 9,
   "metadata": {},
   "outputs": [
    {
     "name": "stderr",
     "output_type": "stream",
     "text": [
      "[nltk_data] Downloading package punkt to\n",
      "[nltk_data]     C:\\Users\\sarii\\AppData\\Roaming\\nltk_data...\n",
      "[nltk_data]   Unzipping tokenizers\\punkt.zip.\n"
     ]
    },
    {
     "data": {
      "text/plain": [
       "True"
      ]
     },
     "execution_count": 9,
     "metadata": {},
     "output_type": "execute_result"
    }
   ],
   "source": [
    "import nltk\n",
    "nltk.download('punkt')"
   ]
  },
  {
   "cell_type": "code",
   "execution_count": 11,
   "metadata": {},
   "outputs": [],
   "source": [
    "article.nlp()"
   ]
  },
  {
   "cell_type": "code",
   "execution_count": 12,
   "metadata": {},
   "outputs": [
    {
     "data": {
      "text/plain": [
       "['yorkshire',\n",
       " 'banned',\n",
       " 'owner',\n",
       " 'legal',\n",
       " 'isnt',\n",
       " 'cnn',\n",
       " 'standards',\n",
       " 'bakery',\n",
       " 'trading',\n",
       " 'uk',\n",
       " 'sprinkles',\n",
       " 'using',\n",
       " 'told']"
      ]
     },
     "execution_count": 12,
     "metadata": {},
     "output_type": "execute_result"
    }
   ],
   "source": [
    "article.keywords"
   ]
  },
  {
   "cell_type": "code",
   "execution_count": 13,
   "metadata": {},
   "outputs": [
    {
     "data": {
      "text/plain": [
       "\"(CNN) The owner of a bakery in northern England has been left with a bitter taste in his mouth after authorities told him he had to stop using banned sprinkles sourced from the US.\\nWest Yorkshire Trading Standards said the sprinkles contained an artificial coloring which isn't approved for use in sprinkles in the UK.\\nE127 is only permitted for use in cocktail cherries and candied cherries in the UK and the EU, according to a statement from West Yorkshire Trading Standards sent to CNN Thursday.\\nBut the owner of the bakery isn't happy that his most popular product has lost out on its prize topping.\\nRich Myers, director and founder of Get Baked bakery in Leeds, told CNN he had been using the sprinkles since opening the business in July.\""
      ]
     },
     "execution_count": 13,
     "metadata": {},
     "output_type": "execute_result"
    }
   ],
   "source": [
    "article.summary"
   ]
  },
  {
   "cell_type": "code",
   "execution_count": 15,
   "metadata": {},
   "outputs": [
    {
     "name": "stdout",
     "output_type": "stream",
     "text": [
      "67\n",
      "https://www.abc.com/shows/queens/video/vdka24760917\n",
      "https://www.abc.com/shows/abc-news-specials/episode-guide/2021-10/18-the-real-queens-of-hip-hop-the-women-who-changed-the-game\n",
      "https://www.abc.com/shows/supermarket-sweep/episode-guide/season-02/04-bring-that-meat-back-girl\n",
      "https://www.abc.com/shows/celebrity-wheel-of-fortune/episode-guide/season-02/04-melissa-joan-hart-tituss-burgess-and-lacey-chabert\n",
      "https://www.abc.com/shows/americas-funniest-home-videos/episode-guide/season-32/03-bonehead-brigade-windy-city-and-the-uncooked-pasta-prank\n",
      "https://www.abc.com/shows/2020/episode-guide/2021-10/15-the-principals-wife\n",
      "https://www.abc.com/shows/big-sky/episode-guide/season-02/03-you-have-to-play-along\n",
      "https://www.abc.com/shows/the-conners/episode-guide/season-04/04-the-wedding-of-dan-and-louise\n",
      "https://www.abc.com/movies-and-specials/a-night-in-the-academy-museum\n",
      "https://www.abc.com/movies-and-specials/the-most-magical-story-on-earth-50-years-of-walt-disney-world\n",
      "https://www.abc.com/shows/the-conners/episode-guide/season-04/01-trucking-live-in-front-of-a-fully-vaccinated-studio-audience\n",
      "https://www.abc.com/shows/americas-funniest-home-videos/episode-guide/season-32/01-summer-bummers-cats-and-mask-appeal\n",
      "https://abc.com/news/insider/abc-tv-schedule-lineup-whats-on-tonight?cid=abc_homepage_mm_whats_on_tonight\n",
      "https://www.hulu.com/series/dopesick-227de06a-d3d4-42e0-9df1-bb5495e1738d?cmp=15914&utm_campaign=OO_ABC_PromoModule_OnChannel_Dopesick&utm_medium=Display&utm_source=OO_ABC\n",
      "https://www.abc.com/shows/what-we-do-in-the-shadows\n",
      "https://www.abc.com/movies-and-specials/the-real-rebel-the-erin-brockovich-story\n",
      "https://www.abc.com/movies-and-specials/juneteenth-together-we-triumph-a-soul-of-a-nation-special-event\n",
      "https://www.abc.com/shows/101-ways-to-leave-a-game-show\n",
      "https://abc.com/shows/queens/video/most-recent/vdka24952733\n",
      "https://abc.com/shows/the-bachelorette/news/updates/the-bachelorette-2021-fall-season-18-michelle-young-men-announced\n",
      "https://fantasy.espn.com/games/dancing-with-the-stars-fan-challenge-2021/make-picks?addata=dwts2021_dwts_aroundabc\n",
      "https://abc.com/shows/coming-to-disney-plus/news/disney-plus-updates/whats-coming-to-disney-plus\n",
      "https://abc.com/news/insider/whats-coming-to-hulu\n",
      "https://abc.com/news/insider/watch-the-new-york-times-presents-controlling-britney-spears-on-fx-hulu\n",
      "https://abc.com/collection/new-shows/news/abc-2021-2022-tv-season-new-shows-returning-shows-lineup\n",
      "https://abc.com/shows/soul-of-a-nation/episode-guide/season-01/07-soul-of-a-nation-presents-corazon-de-america-celebrating-hispanic-culture\n",
      "https://abc.com/shows/queens/video/vdka24760917\n",
      "https://abc.com/shows/abc-news-specials/episode-guide/2021-10/18-the-real-queens-of-hip-hop-the-women-who-changed-the-game\n",
      "https://abc.com/shows/supermarket-sweep/episode-guide/season-02/04-bring-that-meat-back-girl\n",
      "https://abc.com/shows/celebrity-wheel-of-fortune/episode-guide/season-02/04-melissa-joan-hart-tituss-burgess-and-lacey-chabert\n",
      "https://abc.com/shows/americas-funniest-home-videos/episode-guide/season-32/03-bonehead-brigade-windy-city-and-the-uncooked-pasta-prank\n",
      "https://abc.com/shows/2020/episode-guide/2021-10/15-the-principals-wife\n",
      "https://abc.com/shows/big-sky/episode-guide/season-02/03-you-have-to-play-along\n",
      "https://abc.com/shows/the-conners/episode-guide/season-04/04-the-wedding-of-dan-and-louise\n",
      "https://abc.com/movies-and-specials/a-night-in-the-academy-museum\n",
      "https://abc.com/movies-and-specials/the-most-magical-story-on-earth-50-years-of-walt-disney-world\n",
      "https://abc.com/shows/the-conners/episode-guide/season-04/01-trucking-live-in-front-of-a-fully-vaccinated-studio-audience\n",
      "https://abc.com/shows/americas-funniest-home-videos/episode-guide/season-32/01-summer-bummers-cats-and-mask-appeal\n",
      "https://abc.com/shows/what-we-do-in-the-shadows\n",
      "https://abc.com/movies-and-specials/the-real-rebel-the-erin-brockovich-story\n",
      "https://abc.com/movies-and-specials/juneteenth-together-we-triumph-a-soul-of-a-nation-special-event\n",
      "https://abc.com/shows/101-ways-to-leave-a-game-show\n",
      "https://www.abc.com/news/insider/how-to-watch-hocus-pocus-freeform-31-nights-of-halloween\n",
      "https://www.abc.com/news/insider/how-to-watch-halloweentown-freeform-31-nights-of-halloween\n",
      "https://www.abc.com/news/insider/how-to-watch-ghostbusters-freeform-31-nights-of-halloween\n",
      "https://www.abc.com/news/insider/how-to-watch-the-nightmare-before-christmas-freeform-31-nights-of-halloween\n",
      "https://www.abc.com/news/insider/abc-tv-schedule-lineup-whats-on-tonight\n",
      "https://www.abc.com/news/insider/watch-college-football-on-abc-the-abc-app-espn-see-schedule\n",
      "https://www.abc.com/news/insider/whats-coming-to-hulu\n",
      "https://www.abc.com/news/insider/george-stephanopoulos-productions-streams-first-two-projects-on-hulu\n",
      "https://www.abc.com/news/insider/watch-the-real-queens-of-hip-hop-on-abc-the-abc-app-hulu\n",
      "https://www.abc.com/news/insider/halloween-rundown-what-to-watch-this-halloween-on-abc-freeform-fx-and-national-geographic\n",
      "https://www.abc.com/news/insider/abc-2021-2022-tv-season-new-shows-returning-shows-lineup\n",
      "https://www.abc.com/news/insider/watch-a-night-in-the-academy-museum-on-abc-the-abc-app-hulu\n",
      "https://www.abc.com/news/insider/watch-the-most-magical-story-on-earth-50-years-of-walt-disney-world-on-abc-hulu-disney-plus\n",
      "https://www.abc.com/news/insider/watch-the-new-york-times-presents-controlling-britney-spears-on-fx-hulu\n",
      "https://www.abc.com/news/insider/watch-global-citizen-live-on-abc-news-live-and-the-abc-app\n",
      "https://www.abc.com/news/insider/watch-time100-2021-on-abc-and-the-abc-app-hulu\n",
      "https://www.abc.com/news/insider/celebrating-hispanic-latinx-heritage-month\n",
      "https://www.abc.com/news/insider/watch-impeachment-american-crime-story-on-abc-and-the-abc-app\n",
      "https://www.abc.com/news/insider/watch-corazon-de-america-celebrating-hispanic-culture-on-abc-and-the-abc-app\n",
      "https://www.abc.com/news/insider/watch-abc-news-america-strong-on-abc-and-the-abc-app\n",
      "https://www.abc.com/news/insider/watch-nba-games-christmas-dayabc-2021-on-abc-espn\n",
      "https://www.abc.com/news/insider/watch-9-11-twenty-years-later-america-remembers-on-abc-and-the-abc-app\n",
      "https://www.abc.com/news/insider/watch-abc-freeform-fx-national-geographic-shows-specials-movies-with-the-abc-app\n",
      "https://www.abc.com/news/insider/new-series-judge-steve-harvey-coming-soon-to-abc\n",
      "https://www.abc.com/news/insider/watch-stand-up-to-cancer-special-on-abc-and-the-abc-app\n",
      "https://www.abc.com/\n",
      "https://www.abc.com/watch-live\n",
      "https://abc.com\n",
      "https://www.abc.com/apps\n",
      "https://www.abc.com/news\n",
      "https://support.abc.com\n",
      "https://www.abc.com/schedule\n"
     ]
    }
   ],
   "source": [
    "import newspaper\n",
    "\n",
    "cnn_paper = newspaper.build('https://www.abc.com/')\n",
    "print(len(cnn_paper.articles))\n",
    "\n",
    "for article in cnn_paper.articles:\n",
    "    print(article.url)\n",
    "\n",
    "for category in cnn_paper.category_urls():\n",
    "    print(category)"
   ]
  },
  {
   "cell_type": "code",
   "execution_count": 4,
   "metadata": {},
   "outputs": [
    {
     "name": "stdout",
     "output_type": "stream",
     "text": [
      "59\n"
     ]
    }
   ],
   "source": [
    "import newspaper\n",
    "from newspaper import Article\n",
    "\n",
    "newspaper_repository = newspaper.build('https://www.msn.com/', memoize_articles=False, language='en')\n",
    "print(len(newspaper_repository.articles))"
   ]
  },
  {
   "cell_type": "code",
   "execution_count": 5,
   "metadata": {},
   "outputs": [],
   "source": [
    "import json \n",
    "import newspaper\n",
    "from newspaper import Article\n",
    "\n",
    "articles_array = []\n",
    "def write_json_to_file(data):\n",
    "    with open('data,json', 'w', encoding='utf-8') as f:\n",
    "        json.dump(data, f, ensure_ascii=False)\n",
    "        \n",
    "        def crawl_news(limit, url):\n",
    "            site = newspaper.build(url, memorize_articles=False, language='en')\n",
    "            \n",
    "            for article in site.articles:\n",
    "                article.download()\n",
    "                article.parse()\n",
    "                print(article.text)\n",
    "                articles_array.append(article.text)\n",
    "                if len(articles_array) == limit:\n",
    "                    break\n",
    "                    \n",
    "                    crawl_news(10,'https://cnn.com')"
   ]
  },
  {
   "cell_type": "code",
   "execution_count": 6,
   "metadata": {},
   "outputs": [],
   "source": [
    "# article_author = article.authors\n",
    "# print(article.publish_date)\n",
    "# print(article_author)\n",
    "# print(article.text)\n",
    "# print(article.url)"
   ]
  },
  {
   "cell_type": "code",
   "execution_count": 7,
   "metadata": {},
   "outputs": [],
   "source": [
    "write_json_to_file(articles_array)"
   ]
  },
  {
   "cell_type": "code",
   "execution_count": null,
   "metadata": {},
   "outputs": [],
   "source": []
  }
 ],
 "metadata": {
  "kernelspec": {
   "display_name": "Python 3",
   "language": "python",
   "name": "python3"
  },
  "language_info": {
   "codemirror_mode": {
    "name": "ipython",
    "version": 3
   },
   "file_extension": ".py",
   "mimetype": "text/x-python",
   "name": "python",
   "nbconvert_exporter": "python",
   "pygments_lexer": "ipython3",
   "version": "3.8.5"
  }
 },
 "nbformat": 4,
 "nbformat_minor": 5
}
